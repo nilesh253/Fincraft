{
 "cells": [
  {
   "cell_type": "code",
   "execution_count": 58,
   "id": "f58f1292-ca86-4fec-8572-603b0f2d50c6",
   "metadata": {},
   "outputs": [
    {
     "data": {
      "text/html": [
       "<div>\n",
       "<style scoped>\n",
       "    .dataframe tbody tr th:only-of-type {\n",
       "        vertical-align: middle;\n",
       "    }\n",
       "\n",
       "    .dataframe tbody tr th {\n",
       "        vertical-align: top;\n",
       "    }\n",
       "\n",
       "    .dataframe thead th {\n",
       "        text-align: right;\n",
       "    }\n",
       "</style>\n",
       "<table border=\"1\" class=\"dataframe\">\n",
       "  <thead>\n",
       "    <tr style=\"text-align: right;\">\n",
       "      <th></th>\n",
       "      <th>numbers</th>\n",
       "    </tr>\n",
       "  </thead>\n",
       "  <tbody>\n",
       "    <tr>\n",
       "      <th>0</th>\n",
       "      <td>1</td>\n",
       "    </tr>\n",
       "    <tr>\n",
       "      <th>1</th>\n",
       "      <td>6</td>\n",
       "    </tr>\n",
       "    <tr>\n",
       "      <th>2</th>\n",
       "      <td>8</td>\n",
       "    </tr>\n",
       "    <tr>\n",
       "      <th>3</th>\n",
       "      <td>12</td>\n",
       "    </tr>\n",
       "    <tr>\n",
       "      <th>4</th>\n",
       "      <td>18</td>\n",
       "    </tr>\n",
       "    <tr>\n",
       "      <th>...</th>\n",
       "      <td>...</td>\n",
       "    </tr>\n",
       "    <tr>\n",
       "      <th>995</th>\n",
       "      <td>10</td>\n",
       "    </tr>\n",
       "    <tr>\n",
       "      <th>996</th>\n",
       "      <td>11</td>\n",
       "    </tr>\n",
       "    <tr>\n",
       "      <th>997</th>\n",
       "      <td>19</td>\n",
       "    </tr>\n",
       "    <tr>\n",
       "      <th>998</th>\n",
       "      <td>16</td>\n",
       "    </tr>\n",
       "    <tr>\n",
       "      <th>999</th>\n",
       "      <td>20</td>\n",
       "    </tr>\n",
       "  </tbody>\n",
       "</table>\n",
       "<p>1000 rows × 1 columns</p>\n",
       "</div>"
      ],
      "text/plain": [
       "     numbers\n",
       "0          1\n",
       "1          6\n",
       "2          8\n",
       "3         12\n",
       "4         18\n",
       "..       ...\n",
       "995       10\n",
       "996       11\n",
       "997       19\n",
       "998       16\n",
       "999       20\n",
       "\n",
       "[1000 rows x 1 columns]"
      ]
     },
     "execution_count": 58,
     "metadata": {},
     "output_type": "execute_result"
    }
   ],
   "source": [
    "import numpy as np \n",
    "import pandas as pd \n",
    "df = pd.read_json('data.json')\n",
    "df"
   ]
  },
  {
   "cell_type": "code",
   "execution_count": 59,
   "id": "6e78d90e-14c1-4783-a61c-d0952bfe4645",
   "metadata": {},
   "outputs": [
    {
     "data": {
      "text/plain": [
       "numbers    1000\n",
       "dtype: int64"
      ]
     },
     "execution_count": 59,
     "metadata": {},
     "output_type": "execute_result"
    }
   ],
   "source": [
    "df.count()"
   ]
  },
  {
   "cell_type": "code",
   "execution_count": 60,
   "id": "9e6e8b17-a51e-4988-8c5d-0a19c31b643e",
   "metadata": {},
   "outputs": [
    {
     "data": {
      "text/plain": [
       "2"
      ]
     },
     "execution_count": 60,
     "metadata": {},
     "output_type": "execute_result"
    }
   ],
   "source": [
    "df.ndim"
   ]
  },
  {
   "cell_type": "code",
   "execution_count": 61,
   "id": "a94a06ec-0f74-47e9-bbb3-b60cf8bb4a45",
   "metadata": {},
   "outputs": [
    {
     "data": {
      "text/plain": [
       "numbers    20\n",
       "dtype: int64"
      ]
     },
     "execution_count": 61,
     "metadata": {},
     "output_type": "execute_result"
    }
   ],
   "source": [
    "df.nunique()"
   ]
  },
  {
   "cell_type": "code",
   "execution_count": 62,
   "id": "1ad3187b-3c2c-46e3-9bf2-c4495e2ae6ae",
   "metadata": {},
   "outputs": [
    {
     "data": {
      "text/plain": [
       "array([ 1,  6,  8, 12, 18,  7, 16,  9, 11, 13,  5,  2, 15, 17, 10,  3, 20,\n",
       "       14, 19,  4], dtype=int64)"
      ]
     },
     "execution_count": 62,
     "metadata": {},
     "output_type": "execute_result"
    }
   ],
   "source": [
    "df['numbers'].unique()"
   ]
  },
  {
   "cell_type": "code",
   "execution_count": 63,
   "id": "f15eeea7-880f-4e90-aeff-220cb009225e",
   "metadata": {},
   "outputs": [],
   "source": [
    "output = df.value_counts()"
   ]
  },
  {
   "cell_type": "code",
   "execution_count": 64,
   "id": "2c71ed14-e5f0-418f-972c-d31b78c5ff2f",
   "metadata": {},
   "outputs": [
    {
     "data": {
      "text/plain": [
       "numbers\n",
       "15         63\n",
       "10         62\n",
       "13         61\n",
       "18         58\n",
       "3          56\n",
       "12         56\n",
       "8          53\n",
       "11         52\n",
       "9          52\n",
       "6          50\n",
       "4          49\n",
       "14         49\n",
       "7          47\n",
       "17         46\n",
       "2          46\n",
       "16         46\n",
       "20         43\n",
       "1          38\n",
       "19         37\n",
       "5          36\n",
       "Name: count, dtype: int64"
      ]
     },
     "execution_count": 64,
     "metadata": {},
     "output_type": "execute_result"
    }
   ],
   "source": [
    "output "
   ]
  },
  {
   "cell_type": "code",
   "execution_count": 65,
   "id": "9cb1cde6-2199-4c1d-a812-b31c124a2a51",
   "metadata": {},
   "outputs": [
    {
     "data": {
      "text/plain": [
       "20"
      ]
     },
     "execution_count": 65,
     "metadata": {},
     "output_type": "execute_result"
    }
   ],
   "source": [
    "output.count()"
   ]
  },
  {
   "cell_type": "code",
   "execution_count": 67,
   "id": "66c41a21-c0a3-41ec-a8ba-818c4f6c3a2e",
   "metadata": {},
   "outputs": [],
   "source": [
    "import json\n",
    "frequency_counts = df['numbers'].value_counts()\n",
    "frequency_dict = frequency_counts.to_dict()\n",
    "with open('frequency_counts.json', 'w') as json_file:\n",
    "    json.dump(frequency_dict, json_file, indent=4)\n"
   ]
  },
  {
   "cell_type": "code",
   "execution_count": 68,
   "id": "477a9ca4-ea3d-4e89-a245-2d84c7657720",
   "metadata": {},
   "outputs": [],
   "source": [
    "frequency_list = frequency_counts.items()\n",
    "sorted_frequency = sorted(frequency_list, key=lambda x: x[1], reverse=True)\n",
    "\n"
   ]
  },
  {
   "cell_type": "code",
   "execution_count": 69,
   "id": "86f0c820-482c-4460-ba45-234575406ddc",
   "metadata": {},
   "outputs": [
    {
     "name": "stdout",
     "output_type": "stream",
     "text": [
      "Third-highest frequency: (13, 61)\n"
     ]
    }
   ],
   "source": [
    "if len(sorted_frequency) >= 3:\n",
    "    third_highest_frequency = sorted_frequency[2]\n",
    "    print(\"Third-highest frequency:\", third_highest_frequency)\n",
    "else:\n",
    "    print(\"There are less than three unique values.\")"
   ]
  },
  {
   "cell_type": "code",
   "execution_count": null,
   "id": "a5bee563-2e35-4525-a6a8-ac765a5e82d3",
   "metadata": {},
   "outputs": [],
   "source": []
  },
  {
   "cell_type": "code",
   "execution_count": null,
   "id": "49b39147-1ac3-404d-b1bf-50d7e2beb6ba",
   "metadata": {},
   "outputs": [],
   "source": []
  },
  {
   "cell_type": "code",
   "execution_count": null,
   "id": "20a27843-4f89-4c73-b140-5ca2ade3085c",
   "metadata": {},
   "outputs": [],
   "source": []
  },
  {
   "cell_type": "code",
   "execution_count": 35,
   "id": "96bc0320-1554-45c8-aeb8-9cd0cee63fe0",
   "metadata": {},
   "outputs": [
    {
     "name": "stdout",
     "output_type": "stream",
     "text": [
      "Output saved to output.json\n"
     ]
    }
   ],
   "source": [
    "import json\n",
    "from collections import Counter\n",
    "from typing import List, Tuple\n",
    "\n",
    "def load_data(filename: str) -> List[int]:\n",
    "    with open(filename, 'r') as file:\n",
    "        data = json.load(file)\n",
    "    return data\n",
    "\n",
    "def calculate_frequency(numbers: List[int]) -> List[Tuple[int, int]]:\n",
    "    counter = Counter(numbers)\n",
    "    frequencies = counter.most_common()\n",
    "    return frequencies\n",
    "\n",
    "def get_third_highest_frequency(frequencies: List[Tuple[int, int]]) -> Tuple[int, int]:\n",
    "    \n",
    "    if len(frequencies) < 3:\n",
    "        return None \n",
    "    return frequencies[2]\n",
    "\n",
    "\n",
    "def save_output(data: dict, filename: str) -> None:\n",
    "    with open(filename, 'w') as file:\n",
    "        json.dump(data, file)\n",
    "\n",
    "def main():\n",
    "    numbers = load_data('data.json')\n",
    "    frequencies = calculate_frequency(numbers)\n",
    "    third_highest_freq = get_third_highest_frequency(frequencies)\n",
    "    \n",
    "    output = {\n",
    "        \"sorted_frequency_distribution\": frequencies,\n",
    "        \"third_highest_frequency\": third_highest_freq\n",
    "    }\n",
    "    \n",
    "    save_output(output, 'output.json')\n",
    "    \n",
    "    print(\"Output saved to output.json\")\n",
    "\n",
    "if __name__ == \"__main__\":\n",
    "    main()\n"
   ]
  },
  {
   "cell_type": "code",
   "execution_count": 55,
   "id": "87dc2659-53e9-41be-a5d9-b82354dd2719",
   "metadata": {},
   "outputs": [
    {
     "name": "stdout",
     "output_type": "stream",
     "text": [
      "Third highest frequency: 22\n"
     ]
    }
   ],
   "source": [
    "from collections import Counter\n",
    "\n",
    "def find_third_highest_frequency(numbers):\n",
    "    counter = Counter(numbers)\n",
    "    frequencies = sorted(counter.values(), reverse=True)\n",
    "    unique_frequencies = list(set(frequencies))\n",
    "    \n",
    "    if len(unique_frequencies) < 3:\n",
    "        return None     \n",
    "    return sorted(unique_frequencies)[-3]\n",
    "\n",
    "data = [1, 6, 8, 12, 18, 7, 16, 9, 11, 9, 13, 18, 13, 8, 5, 2, 11, 13, 11, 11, 13, 15, 8, 2, 15, 12, 5, 12, 17, 7, 10, 17, 5, 15, 1, 6, 16, 7, 16, 3, 10, 13, 20, 7, 16, 9, 20, 10, 10, 20, 1, 8, 8, 2, 14, 14, 11, 8, 13, 18, 10, 3, 3, 12, 3, 16, 18, 17, 9, 14, 19, 15, 8, 12, 1, 2, 17, 14, 15, 13, 18, 16, 12, 15, 6, 10, 4, 1, 12, 15, 17, 8, 17, 7, 15, 3, 16, 8, 20, 11, 6, 15, 15, 13, 1, 11, 8, 11, 8, 13, 1, 4, 11, 10, 3, 2, 1, 4, 5, 12, 6, 15, 11, 19, 9, 1, 7, 16, 9, 16, 19, 12, 3, 7, 6, 18, 12, 7, 13, 10, 9, 16, 10, 17, 3, 11, 10, 2, 20, 6, 13, 19, 18, 5, 14, 11, 3, 16, 10, 18, 9, 18, 10, 3, 9, 13, 8, 10, 19, 8, 14, 15, 14, 17, 10, 10, 9, 18, 2, 20, 6, 13, 18, 6, 4, 19, 19, 7, 15, 15, 15, 2, 10, 17, 2, 12, 18, 17, 11, 11, 3, 7, 14, 15, 16, 8, 6, 3, 13, 7, 5, 14, 9, 4, 1, 4, 13, 6, 1, 6, 10, 8, 2, 15, 15, 6, 15, 12, 9, 9, 15, 18, 10, 17, 10, 18, 17, 1, 10, 19, 18, 20, 8, 12, 10, 5, 2, 17, 18, 19, 17, 20, 16, 7, 5, 15, 2, 4, 15, 2, 3, 8, 9, 9, 3, 12, 2, 13, 5, 3, 6, 8, 19, 18, 16, 1, 15, 18, 17, 1, 9, 19, 17, 15, 20, 12, 7, 13, 20, 3, 4, 1, 14, 14, 15, 18, 7, 11, 6, 4, 11, 9, 3, 10, 13, 12, 16, 8, 7, 11, 16, 17, 17, 6, 13, 10, 9, 15, 8, 16, 6, 20, 11, 20, 6, 5, 5, 6, 2, 6, 18, 4, 5, 6, 18, 5, 12, 17, 16, 8, 12, 19, 11, 5, 8, 18]\n",
    "third_highest_frequency = find_third_highest_frequency(data)\n",
    "print(\"Third highest frequency:\", third_highest_frequency)\n"
   ]
  },
  {
   "cell_type": "code",
   "execution_count": null,
   "id": "34cdd296-cd3d-4205-9a12-1374f9b077af",
   "metadata": {},
   "outputs": [],
   "source": []
  }
 ],
 "metadata": {
  "kernelspec": {
   "display_name": "Python 3 (ipykernel)",
   "language": "python",
   "name": "python3"
  },
  "language_info": {
   "codemirror_mode": {
    "name": "ipython",
    "version": 3
   },
   "file_extension": ".py",
   "mimetype": "text/x-python",
   "name": "python",
   "nbconvert_exporter": "python",
   "pygments_lexer": "ipython3",
   "version": "3.11.5"
  }
 },
 "nbformat": 4,
 "nbformat_minor": 5
}
