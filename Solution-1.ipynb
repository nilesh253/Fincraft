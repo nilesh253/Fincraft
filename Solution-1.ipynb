{
 "cells": [
  {
   "cell_type": "code",
   "execution_count": null,
   "id": "9677907a-7944-41f0-a23d-2b01941c87d6",
   "metadata": {},
   "outputs": [],
   "source": [
    "from markupsafe import escape"
   ]
  },
  {
   "cell_type": "code",
   "execution_count": null,
   "id": "4ad46cfd-abfe-4510-acc1-aa5fe3e4ddf1",
   "metadata": {},
   "outputs": [],
   "source": [
    "from flask import Blueprint, jsonify, request\n",
    "import json\n",
    "\n",
    "transaction_blueprint = Blueprint('transactions', __name__)\n",
    "\n",
    "def read_transactions():\n",
    "    with open('transactions.json') as data_file:\n",
    "        transactions_data = json.load(data_file)\n",
    "    return transactions_data\n",
    "\n",
    "def write_transactions(transactions_data):\n",
    "    with open('transactions.json', 'w') as data_file:\n",
    "        json.dump(transactions_data, data_file, indent=4)\n",
    "\n",
    "@transaction_blueprint.route('/transaction/<id>', methods=['GET'])\n",
    "def get_transaction(id):\n",
    "    transactions_data = read_transactions()\n",
    "    transaction = transactions_data.get(id, None)\n",
    "    if transaction:\n",
    "        return jsonify(transaction), 200\n",
    "    else:\n",
    "        return jsonify({'error': 'Transaction not found'}), 404\n",
    "\n",
    "@transaction_blueprint.route('/transaction', methods=['POST'])\n",
    "def add_transaction():\n",
    "    transaction_data = request.json\n",
    "    transactions_data = read_transactions()\n",
    "    transactions_data[str(len(transactions_data))] = transaction_data\n",
    "    write_transactions(transactions_data)\n",
    "    return jsonify({'message': 'Transaction added successfully'}), 201\n",
    "\n",
    "@transaction_blueprint.route('/transaction/<id>', methods=['PUT'])\n",
    "def update_transaction(id):\n",
    "    transaction_data = request.json\n",
    "    transactions_data = read_transactions()\n",
    "    if id in transactions_data:\n",
    "        transactions_data[id] = transaction_data\n",
    "        write_transactions(transactions_data)\n",
    "        return jsonify({'message': 'Transaction updated successfully'}), 200\n",
    "    else:\n",
    "        return jsonify({'error': 'Transaction not found'}), 404\n",
    "\n",
    "@transaction_blueprint.route('/transaction/<id>', methods=['DELETE'])\n",
    "def delete_transaction(id):\n",
    "    transactions_data = read_transactions()\n",
    "    if id in transactions_data:\n",
    "        del transactions_data[id]\n",
    "        write_transactions(transactions_data)\n",
    "        return jsonify({'message': 'Transaction deleted successfully'}), 200\n",
    "    else:\n",
    "        return jsonify({'error': 'Transaction not found'}), 404\n",
    "\n",
    "@transaction_blueprint.route('/transactions', methods=['GET'])\n",
    "def get_all_transactions():\n",
    "    transactions_data = read_transactions()\n",
    "    return jsonify(transactions_data), 200\n"
   ]
  },
  {
   "cell_type": "code",
   "execution_count": null,
   "id": "cd8c84ed-f8ba-42b5-b35e-316b2f076c52",
   "metadata": {},
   "outputs": [],
   "source": [
    "import requests\n",
    "\n",
    "# Example GET request\n",
    "response = requests.get('http://127.0.0.1:5000/api/transaction/1')\n",
    "print(response.json())\n",
    "\n",
    "# Example POST request\n",
    "data = {\"amount\": 100, \"description\": \"Test transaction\"}\n",
    "response = requests.post('http://127.0.0.1:5000/api/transaction', json=data)\n",
    "print(response.json())\n"
   ]
  },
  {
   "cell_type": "code",
   "execution_count": null,
   "id": "36081d5c-bd4a-451b-b2ae-7a041c0dcc5e",
   "metadata": {},
   "outputs": [],
   "source": []
  }
 ],
 "metadata": {
  "kernelspec": {
   "display_name": "Python 3 (ipykernel)",
   "language": "python",
   "name": "python3"
  },
  "language_info": {
   "codemirror_mode": {
    "name": "ipython",
    "version": 3
   },
   "file_extension": ".py",
   "mimetype": "text/x-python",
   "name": "python",
   "nbconvert_exporter": "python",
   "pygments_lexer": "ipython3",
   "version": "3.11.5"
  }
 },
 "nbformat": 4,
 "nbformat_minor": 5
}
