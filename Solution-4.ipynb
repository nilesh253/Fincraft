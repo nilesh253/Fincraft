{
 "cells": [
  {
   "cell_type": "code",
   "execution_count": 3,
   "id": "b272d0bc-30d2-408d-b834-e61d5dcb53fd",
   "metadata": {},
   "outputs": [
    {
     "name": "stdout",
     "output_type": "stream",
     "text": [
      "Extracted data has been saved to output.json\n"
     ]
    }
   ],
   "source": [
    "import pdfplumber\n",
    "import json\n",
    "\n",
    "def extract_information_and_tables(pdf_path: str) -> dict:\n",
    "    \"\"\"Extract both text and table data from each page of the PDF document.\"\"\"\n",
    "    extracted_data = {\n",
    "        \"text\": [],  # Store extracted text\n",
    "        \"tables\": []  # Store extracted tables as lists of dictionaries\n",
    "    }\n",
    "    \n",
    "    with pdfplumber.open(pdf_path) as pdf:\n",
    "        for page in pdf.pages:\n",
    "            # Extract text from the page\n",
    "            text = page.extract_text()\n",
    "            extracted_data[\"text\"].append(text)\n",
    "            \n",
    "            # Extract table data from the page\n",
    "            tables = []\n",
    "            for table in page.extract_tables():\n",
    "                table_data = []\n",
    "                for row in table:\n",
    "                    table_data.append({f\"col_{i}\": cell for i, cell in enumerate(row)})\n",
    "                tables.append(table_data)\n",
    "            extracted_data[\"tables\"].append(tables)\n",
    "                \n",
    "    return extracted_data\n",
    "\n",
    "def save_extracted_data(data: dict, output_file: str):\n",
    "    \"\"\"Save the extracted data to a JSON file.\"\"\"\n",
    "    with open(output_file, 'w') as json_file:\n",
    "        json.dump(data, json_file, indent=4)\n",
    "\n",
    "def main():\n",
    "    pdf_path = 'input.pdf'  # Specify the path to the input PDF file\n",
    "    output_file = 'output.json'  # Specify the path to the output JSON file\n",
    "    \n",
    "    # Extract data from PDF\n",
    "    extracted_data = extract_information_and_tables(pdf_path)\n",
    "    \n",
    "    # Save the extracted data\n",
    "    save_extracted_data(extracted_data, output_file)\n",
    "    \n",
    "    print(f\"Extracted data has been saved to {output_file}\")\n",
    "\n",
    "if __name__ == \"__main__\":\n",
    "    main()\n"
   ]
  },
  {
   "cell_type": "code",
   "execution_count": 2,
   "id": "bad84370-f494-461f-8b62-be22c88a4a80",
   "metadata": {},
   "outputs": [
    {
     "name": "stdout",
     "output_type": "stream",
     "text": [
      "Collecting pdfplumber\n",
      "  Downloading pdfplumber-0.11.0-py3-none-any.whl.metadata (39 kB)\n",
      "Requirement already satisfied: pdfminer.six==20231228 in c:\\users\\kiit\\anaconda3\\lib\\site-packages (from pdfplumber) (20231228)\n",
      "Requirement already satisfied: Pillow>=9.1 in c:\\users\\kiit\\anaconda3\\lib\\site-packages (from pdfplumber) (10.0.1)\n",
      "Collecting pypdfium2>=4.18.0 (from pdfplumber)\n",
      "  Downloading pypdfium2-4.29.0-py3-none-win_amd64.whl.metadata (48 kB)\n",
      "     ---------------------------------------- 0.0/48.5 kB ? eta -:--:--\n",
      "     -------------------------------- ----- 41.0/48.5 kB 991.0 kB/s eta 0:00:01\n",
      "     -------------------------------------- 48.5/48.5 kB 814.3 kB/s eta 0:00:00\n",
      "Requirement already satisfied: charset-normalizer>=2.0.0 in c:\\users\\kiit\\anaconda3\\lib\\site-packages (from pdfminer.six==20231228->pdfplumber) (2.0.4)\n",
      "Requirement already satisfied: cryptography>=36.0.0 in c:\\users\\kiit\\anaconda3\\lib\\site-packages (from pdfminer.six==20231228->pdfplumber) (41.0.7)\n",
      "Requirement already satisfied: cffi>=1.12 in c:\\users\\kiit\\anaconda3\\lib\\site-packages (from cryptography>=36.0.0->pdfminer.six==20231228->pdfplumber) (1.16.0)\n",
      "Requirement already satisfied: pycparser in c:\\users\\kiit\\anaconda3\\lib\\site-packages (from cffi>=1.12->cryptography>=36.0.0->pdfminer.six==20231228->pdfplumber) (2.21)\n",
      "Downloading pdfplumber-0.11.0-py3-none-any.whl (56 kB)\n",
      "   ---------------------------------------- 0.0/56.4 kB ? eta -:--:--\n",
      "   ------------------------------------ --- 51.2/56.4 kB 1.3 MB/s eta 0:00:01\n",
      "   ---------------------------------------- 56.4/56.4 kB 981.5 kB/s eta 0:00:00\n",
      "Downloading pypdfium2-4.29.0-py3-none-win_amd64.whl (2.9 MB)\n",
      "   ---------------------------------------- 0.0/2.9 MB ? eta -:--:--\n",
      "   - -------------------------------------- 0.1/2.9 MB 2.3 MB/s eta 0:00:02\n",
      "   -- ------------------------------------- 0.2/2.9 MB 2.4 MB/s eta 0:00:02\n",
      "   --- ------------------------------------ 0.3/2.9 MB 2.4 MB/s eta 0:00:02\n",
      "   --- ------------------------------------ 0.3/2.9 MB 2.4 MB/s eta 0:00:02\n",
      "   ----- ---------------------------------- 0.4/2.9 MB 1.7 MB/s eta 0:00:02\n",
      "   ------ --------------------------------- 0.5/2.9 MB 1.7 MB/s eta 0:00:02\n",
      "   ------- -------------------------------- 0.6/2.9 MB 1.7 MB/s eta 0:00:02\n",
      "   --------- ------------------------------ 0.7/2.9 MB 1.9 MB/s eta 0:00:02\n",
      "   ---------- ----------------------------- 0.8/2.9 MB 2.0 MB/s eta 0:00:02\n",
      "   ------------ --------------------------- 0.9/2.9 MB 2.0 MB/s eta 0:00:01\n",
      "   ------------ --------------------------- 0.9/2.9 MB 2.0 MB/s eta 0:00:01\n",
      "   ------------ --------------------------- 0.9/2.9 MB 1.7 MB/s eta 0:00:02\n",
      "   -------------- ------------------------- 1.1/2.9 MB 1.9 MB/s eta 0:00:01\n",
      "   -------------- ------------------------- 1.1/2.9 MB 1.9 MB/s eta 0:00:01\n",
      "   ---------------- ----------------------- 1.2/2.9 MB 1.7 MB/s eta 0:00:02\n",
      "   ---------------- ----------------------- 1.2/2.9 MB 1.7 MB/s eta 0:00:01\n",
      "   ----------------- ---------------------- 1.3/2.9 MB 1.7 MB/s eta 0:00:01\n",
      "   ------------------ --------------------- 1.4/2.9 MB 1.7 MB/s eta 0:00:01\n",
      "   -------------------- ------------------- 1.5/2.9 MB 1.7 MB/s eta 0:00:01\n",
      "   -------------------- ------------------- 1.5/2.9 MB 1.7 MB/s eta 0:00:01\n",
      "   -------------------- ------------------- 1.5/2.9 MB 1.6 MB/s eta 0:00:01\n",
      "   ---------------------- ----------------- 1.6/2.9 MB 1.7 MB/s eta 0:00:01\n",
      "   ---------------------- ----------------- 1.7/2.9 MB 1.6 MB/s eta 0:00:01\n",
      "   ------------------------- -------------- 1.8/2.9 MB 1.7 MB/s eta 0:00:01\n",
      "   -------------------------- ------------- 1.9/2.9 MB 1.7 MB/s eta 0:00:01\n",
      "   ---------------------------- ----------- 2.0/2.9 MB 1.8 MB/s eta 0:00:01\n",
      "   ------------------------------ --------- 2.2/2.9 MB 1.8 MB/s eta 0:00:01\n",
      "   ------------------------------- -------- 2.3/2.9 MB 1.8 MB/s eta 0:00:01\n",
      "   --------------------------------- ------ 2.4/2.9 MB 1.8 MB/s eta 0:00:01\n",
      "   --------------------------------- ------ 2.4/2.9 MB 1.8 MB/s eta 0:00:01\n",
      "   --------------------------------- ------ 2.4/2.9 MB 1.8 MB/s eta 0:00:01\n",
      "   ---------------------------------- ----- 2.5/2.9 MB 1.7 MB/s eta 0:00:01\n",
      "   ------------------------------------- -- 2.7/2.9 MB 1.8 MB/s eta 0:00:01\n",
      "   -------------------------------------- - 2.8/2.9 MB 1.8 MB/s eta 0:00:01\n",
      "   ---------------------------------------  2.8/2.9 MB 1.8 MB/s eta 0:00:01\n",
      "   ---------------------------------------  2.9/2.9 MB 1.8 MB/s eta 0:00:01\n",
      "   ---------------------------------------- 2.9/2.9 MB 1.7 MB/s eta 0:00:00\n",
      "Installing collected packages: pypdfium2, pdfplumber\n",
      "Successfully installed pdfplumber-0.11.0 pypdfium2-4.29.0\n"
     ]
    }
   ],
   "source": [
    "!pip install pdfplumber"
   ]
  },
  {
   "cell_type": "code",
   "execution_count": null,
   "id": "5c7ca99e-2924-472b-9dce-2b299a2a0102",
   "metadata": {},
   "outputs": [],
   "source": []
  }
 ],
 "metadata": {
  "kernelspec": {
   "display_name": "Python 3 (ipykernel)",
   "language": "python",
   "name": "python3"
  },
  "language_info": {
   "codemirror_mode": {
    "name": "ipython",
    "version": 3
   },
   "file_extension": ".py",
   "mimetype": "text/x-python",
   "name": "python",
   "nbconvert_exporter": "python",
   "pygments_lexer": "ipython3",
   "version": "3.11.5"
  }
 },
 "nbformat": 4,
 "nbformat_minor": 5
}
