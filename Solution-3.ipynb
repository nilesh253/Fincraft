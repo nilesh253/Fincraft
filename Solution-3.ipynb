{
 "cells": [
  {
   "cell_type": "code",
   "execution_count": 7,
   "id": "79f7d1f8-ab3c-4312-b693-b4478097e2eb",
   "metadata": {},
   "outputs": [
    {
     "name": "stdout",
     "output_type": "stream",
     "text": [
      "No results found, check the HTML output for changes.\n"
     ]
    }
   ],
   "source": [
    "import requests\n",
    "from bs4 import BeautifulSoup\n",
    "\n",
    "def perform_google_search(query: str) -> str:\n",
    "    base_url = 'https://www.google.com/search'\n",
    "    params = {'q': query}\n",
    "    headers = {\n",
    "        'User-Agent': 'Mozilla/5.0 (Windows NT 10.0; Win64; x64) AppleWebKit/537.36 (KHTML, like Gecko) Chrome/58.0.3029.110 Safari/537.3'\n",
    "    }\n",
    "    response = requests.get(base_url, params=params, headers=headers)\n",
    "    response.raise_for_status()  # Will help to know if the request was blocked\n",
    "    return response.text\n",
    "\n",
    "def parse_search_results(html_content: str):\n",
    "    soup = BeautifulSoup(html_content, 'html.parser')\n",
    "    results = []\n",
    "    for result in soup.select('.tF2Cxc')[:10]:  # Limit to top 10 results\n",
    "        title_elem = result.select_one('h3')\n",
    "        link_elem = result.select_one('a')\n",
    "        desc_elem = result.select_one('.IsZvec')\n",
    "        \n",
    "        title = title_elem.text if title_elem else 'No Title'\n",
    "        link = link_elem['href'] if link_elem else 'No Link'\n",
    "        desc = desc_elem.text if desc_elem else 'No Description'\n",
    "        \n",
    "        results.append({\n",
    "            'title': title,\n",
    "            'link': link,\n",
    "            'description': desc\n",
    "        })\n",
    "    return results\n",
    "\n",
    "def main():\n",
    "    query = \"finkraft\"\n",
    "    html_content = perform_google_search(query)\n",
    "    results = parse_search_results(html_content)\n",
    "    \n",
    "    if results:\n",
    "        with open(\"results.json\", \"w\") as f:\n",
    "            json.dump(results, f, indent=4)\n",
    "        print(\"Search results saved to results.json.\")\n",
    "    else:\n",
    "        print(\"No results found, check the HTML output for changes.\")\n",
    "        with open(\"debug_output.html\", \"w\", encoding=\"utf-8\") as f:\n",
    "            f.write(html_content)  # Debug: Save HTML to file for inspection\n",
    "\n",
    "if __name__ == \"__main__\":\n",
    "    main()\n"
   ]
  },
  {
   "cell_type": "code",
   "execution_count": null,
   "id": "e7bfb66d-4678-45f9-b5d9-69ddf44bc663",
   "metadata": {},
   "outputs": [],
   "source": []
  }
 ],
 "metadata": {
  "kernelspec": {
   "display_name": "Python 3 (ipykernel)",
   "language": "python",
   "name": "python3"
  },
  "language_info": {
   "codemirror_mode": {
    "name": "ipython",
    "version": 3
   },
   "file_extension": ".py",
   "mimetype": "text/x-python",
   "name": "python",
   "nbconvert_exporter": "python",
   "pygments_lexer": "ipython3",
   "version": "3.11.5"
  }
 },
 "nbformat": 4,
 "nbformat_minor": 5
}
